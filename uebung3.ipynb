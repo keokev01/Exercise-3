{
 "cells": [
  {
   "cell_type": "markdown",
   "metadata": {},
   "source": [
    "## Libraries and settings\n"
   ]
  },
  {
   "cell_type": "code",
   "execution_count": 2,
   "metadata": {},
   "outputs": [
    {
     "name": "stderr",
     "output_type": "stream",
     "text": [
      "c:\\Users\\Kevin Keo\\anaconda3\\lib\\site-packages\\scipy\\__init__.py:146: UserWarning: A NumPy version >=1.16.5 and <1.23.0 is required for this version of SciPy (detected version 1.26.4\n",
      "  warnings.warn(f\"A NumPy version >={np_minversion} and <{np_maxversion}\"\n"
     ]
    },
    {
     "name": "stdout",
     "output_type": "stream",
     "text": [
      "c:\\Users\\Kevin Keo\\OneDrive - ZHAW\\Dokumente\\Desktop\\ZHAW WIN\\FS24\\KI-Anwendung\\Exercise 3\n"
     ]
    }
   ],
   "source": [
    "# Libraries\n",
    "import os\n",
    "import numpy as np\n",
    "import pandas as pd\n",
    "import matplotlib.pyplot as plt\n",
    "from sklearn.ensemble import RandomForestRegressor\n",
    "from sklearn.preprocessing import PolynomialFeatures\n",
    "from sklearn.pipeline import Pipeline\n",
    "from sklearn.linear_model import LinearRegression\n",
    "from sklearn.model_selection import train_test_split\n",
    "from sklearn.metrics import mean_squared_error\n",
    "from sklearn.model_selection import cross_val_score\n",
    "\n",
    "# Ignore warnings\n",
    "import warnings\n",
    "warnings.filterwarnings('ignore')\n",
    "\n",
    "# Show current working directory\n",
    "print(os.getcwd())"
   ]
  },
  {
   "cell_type": "markdown",
   "metadata": {},
   "source": [
    "## Import the municipality data\n"
   ]
  },
  {
   "cell_type": "code",
   "execution_count": 3,
   "metadata": {},
   "outputs": [
    {
     "name": "stdout",
     "output_type": "stream",
     "text": [
      "(2059, 7)\n"
     ]
    },
    {
     "data": {
      "text/html": [
       "<div>\n",
       "<style scoped>\n",
       "    .dataframe tbody tr th:only-of-type {\n",
       "        vertical-align: middle;\n",
       "    }\n",
       "\n",
       "    .dataframe tbody tr th {\n",
       "        vertical-align: top;\n",
       "    }\n",
       "\n",
       "    .dataframe thead th {\n",
       "        text-align: right;\n",
       "    }\n",
       "</style>\n",
       "<table border=\"1\" class=\"dataframe\">\n",
       "  <thead>\n",
       "    <tr style=\"text-align: right;\">\n",
       "      <th></th>\n",
       "      <th>bfs_number</th>\n",
       "      <th>bfs_name</th>\n",
       "      <th>pop</th>\n",
       "      <th>pop_dens</th>\n",
       "      <th>frg_pct</th>\n",
       "      <th>emp</th>\n",
       "      <th>tax_income</th>\n",
       "    </tr>\n",
       "  </thead>\n",
       "  <tbody>\n",
       "    <tr>\n",
       "      <th>0</th>\n",
       "      <td>1</td>\n",
       "      <td>Aeugst am Albis</td>\n",
       "      <td>1981</td>\n",
       "      <td>250.442478</td>\n",
       "      <td>14.184755</td>\n",
       "      <td>442.0</td>\n",
       "      <td>108'788</td>\n",
       "    </tr>\n",
       "    <tr>\n",
       "      <th>1</th>\n",
       "      <td>2</td>\n",
       "      <td>Affoltern am Albis</td>\n",
       "      <td>12303</td>\n",
       "      <td>1161.756374</td>\n",
       "      <td>28.700317</td>\n",
       "      <td>6920.0</td>\n",
       "      <td>72'583</td>\n",
       "    </tr>\n",
       "    <tr>\n",
       "      <th>2</th>\n",
       "      <td>3</td>\n",
       "      <td>Bonstetten</td>\n",
       "      <td>5572</td>\n",
       "      <td>749.932705</td>\n",
       "      <td>16.564968</td>\n",
       "      <td>1014.0</td>\n",
       "      <td>91'002</td>\n",
       "    </tr>\n",
       "    <tr>\n",
       "      <th>3</th>\n",
       "      <td>4</td>\n",
       "      <td>Hausen am Albis</td>\n",
       "      <td>3751</td>\n",
       "      <td>275.808824</td>\n",
       "      <td>16.022394</td>\n",
       "      <td>1021.0</td>\n",
       "      <td>91'766</td>\n",
       "    </tr>\n",
       "    <tr>\n",
       "      <th>4</th>\n",
       "      <td>5</td>\n",
       "      <td>Hedingen</td>\n",
       "      <td>3778</td>\n",
       "      <td>578.560490</td>\n",
       "      <td>16.410799</td>\n",
       "      <td>1478.0</td>\n",
       "      <td>94'456</td>\n",
       "    </tr>\n",
       "  </tbody>\n",
       "</table>\n",
       "</div>"
      ],
      "text/plain": [
       "   bfs_number            bfs_name    pop     pop_dens    frg_pct     emp  \\\n",
       "0           1     Aeugst am Albis   1981   250.442478  14.184755   442.0   \n",
       "1           2  Affoltern am Albis  12303  1161.756374  28.700317  6920.0   \n",
       "2           3          Bonstetten   5572   749.932705  16.564968  1014.0   \n",
       "3           4     Hausen am Albis   3751   275.808824  16.022394  1021.0   \n",
       "4           5            Hedingen   3778   578.560490  16.410799  1478.0   \n",
       "\n",
       "  tax_income  \n",
       "0    108'788  \n",
       "1     72'583  \n",
       "2     91'002  \n",
       "3     91'766  \n",
       "4     94'456  "
      ]
     },
     "execution_count": 3,
     "metadata": {},
     "output_type": "execute_result"
    }
   ],
   "source": [
    "import numpy as np\n",
    "# Read and select variables\n",
    "df_orig = pd.read_csv(\"bfs_municipality_and_tax_data.csv\", sep=\",\", encoding='utf-8')\n",
    "\n",
    "# Remove missing values\n",
    "df = df_orig.dropna()\n",
    "df.head(5)\n",
    "\n",
    "# Remove duplicates\n",
    "df = df.drop_duplicates()\n",
    "\n",
    "# Remove some 'extreme' values\n",
    "z_scores = np.abs((df['pop'] - df['pop'].mean()) / df['pop'].std())\n",
    "\n",
    "# Definieren eines Schwellenwerts für den Z-Score\n",
    "threshold = 3\n",
    "\n",
    "# Filtern der Datenpunkte, die den Schwellenwert überschreiten\n",
    "filtered_df = df[z_scores <= threshold]\n",
    "\n",
    "\n",
    "print(df.shape)\n",
    "df.head(5)"
   ]
  },
  {
   "cell_type": "code",
   "execution_count": 4,
   "metadata": {},
   "outputs": [
    {
     "data": {
      "text/plain": [
       "2059"
      ]
     },
     "execution_count": 4,
     "metadata": {},
     "output_type": "execute_result"
    }
   ],
   "source": [
    "len(df)"
   ]
  },
  {
   "cell_type": "code",
   "execution_count": 5,
   "metadata": {},
   "outputs": [
    {
     "data": {
      "text/plain": [
       "Index(['bfs_number', 'bfs_name', 'pop', 'pop_dens', 'frg_pct', 'emp',\n",
       "       'tax_income'],\n",
       "      dtype='object')"
      ]
     },
     "execution_count": 5,
     "metadata": {},
     "output_type": "execute_result"
    }
   ],
   "source": [
    "df.columns"
   ]
  },
  {
   "cell_type": "markdown",
   "metadata": {},
   "source": [
    "## Umwandlung der Daten"
   ]
  },
  {
   "cell_type": "code",
   "execution_count": 6,
   "metadata": {},
   "outputs": [
    {
     "name": "stdout",
     "output_type": "stream",
     "text": [
      "   bfs_number            bfs_name    pop     pop_dens    frg_pct     emp  \\\n",
      "0           1     Aeugst am Albis   1981   250.442478  14.184755   442.0   \n",
      "1           2  Affoltern am Albis  12303  1161.756374  28.700317  6920.0   \n",
      "2           3          Bonstetten   5572   749.932705  16.564968  1014.0   \n",
      "3           4     Hausen am Albis   3751   275.808824  16.022394  1021.0   \n",
      "4           5            Hedingen   3778   578.560490  16.410799  1478.0   \n",
      "\n",
      "   tax_income  \n",
      "0      108788  \n",
      "1       72583  \n",
      "2       91002  \n",
      "3       91766  \n",
      "4       94456  \n"
     ]
    }
   ],
   "source": [
    "\n",
    "# Laden der Daten (ersetzen Sie 'path_to_your_data.csv' mit dem tatsächlichen Pfad Ihrer CSV-Datei)\n",
    "df = pd.read_csv('bfs_municipality_and_tax_data.csv')\n",
    "\n",
    "# Konvertieren der 'tax_income' Spalte, Entfernen der Apostrophe und Umwandlung in int\n",
    "df['tax_income'] = df['tax_income'].str.replace(\"'\", \"\").astype(int)\n",
    "\n",
    "# Überprüfung der Daten nach der Umwandlung\n",
    "print(df.head())\n"
   ]
  },
  {
   "cell_type": "code",
   "execution_count": 13,
   "metadata": {},
   "outputs": [],
   "source": [
    "# Spaltenauswahl für die Features, `tax_income` wird nicht in X_train inkludiert\n",
    "X_train, X_test, y_train, y_test = train_test_split(df[['pop', 'pop_dens']], df['tax_income'], test_size=0.20, random_state=42)\n"
   ]
  },
  {
   "cell_type": "code",
   "execution_count": 14,
   "metadata": {},
   "outputs": [
    {
     "name": "stdout",
     "output_type": "stream",
     "text": [
      "--LinearRegression()--\n",
      "[-5.11184266e+08 -9.97282727e+08 -8.18170502e+08 -5.96178621e+08\n",
      " -7.58082729e+08]\n",
      "-736179768.951327\n"
     ]
    }
   ],
   "source": [
    "# train linear_model = LinearRegression()\n",
    "linear_model = LinearRegression()\n",
    "\n",
    "scores = cross_val_score(linear_model, X_train, y_train, cv=5, scoring='neg_mean_squared_error')\n",
    "print('--{}--'.format(linear_model))\n",
    "print(scores)\n",
    "print(np.mean(scores)) \n"
   ]
  },
  {
   "cell_type": "code",
   "execution_count": 15,
   "metadata": {},
   "outputs": [
    {
     "name": "stdout",
     "output_type": "stream",
     "text": [
      "--Pipeline(steps=[('polynomial_features', PolynomialFeatures()),\n",
      "                ('linear_regression', LinearRegression())])--\n",
      "[-21541.25033263 -30915.50924037 -28060.93191501 -36922.5391216\n",
      " -26578.83220757]\n",
      "-28803.812563433574\n"
     ]
    }
   ],
   "source": [
    "polynomial_model = Pipeline([\n",
    "                                (\"polynomial_features\", PolynomialFeatures(degree=2)),\n",
    "                                (\"linear_regression\", LinearRegression()),\n",
    "                            ])\n",
    "\n",
    "scores = cross_val_score(polynomial_model, X_train, y_train, scoring=\"neg_root_mean_squared_error\", cv=5)\n",
    "print('--{}--'.format(polynomial_model))\n",
    "print(scores)\n",
    "print(np.mean(scores)) "
   ]
  },
  {
   "cell_type": "code",
   "execution_count": 19,
   "metadata": {},
   "outputs": [
    {
     "name": "stdout",
     "output_type": "stream",
     "text": [
      "--RandomForestRegressor(random_state=42)--\n",
      "[-24694.8440253  -28366.49948419 -29378.19450515 -25096.26590966\n",
      " -27832.84598362]\n",
      "-27073.729981585017\n"
     ]
    }
   ],
   "source": [
    "randomforest_model = RandomForestRegressor(random_state=42)\n",
    "\n",
    "scores = cross_val_score(randomforest_model, X_train, y_train, scoring=\"neg_root_mean_squared_error\", cv=5)\n",
    "print('--{}--'.format(randomforest_model))\n",
    "print(scores)\n",
    "print(np.mean(scores)) "
   ]
  },
  {
   "cell_type": "markdown",
   "metadata": {},
   "source": [
    "## GridSearchCV\n"
   ]
  },
  {
   "cell_type": "code",
   "execution_count": 11,
   "metadata": {},
   "outputs": [
    {
     "data": {
      "text/plain": [
       "{'copy_X': True, 'fit_intercept': True, 'n_jobs': None, 'positive': False}"
      ]
     },
     "execution_count": 11,
     "metadata": {},
     "output_type": "execute_result"
    }
   ],
   "source": [
    "# get_params give the possible configuration. As we see with LinearRegression, there aren't any we can configure, so no GridSerchCV will be performed.\n",
    "linear_model.get_params()"
   ]
  },
  {
   "cell_type": "code",
   "execution_count": 12,
   "metadata": {},
   "outputs": [
    {
     "data": {
      "text/plain": [
       "{'memory': None,\n",
       " 'steps': [('polynomial_features', PolynomialFeatures()),\n",
       "  ('linear_regression', LinearRegression())],\n",
       " 'verbose': False,\n",
       " 'polynomial_features': PolynomialFeatures(),\n",
       " 'linear_regression': LinearRegression(),\n",
       " 'polynomial_features__degree': 2,\n",
       " 'polynomial_features__include_bias': True,\n",
       " 'polynomial_features__interaction_only': False,\n",
       " 'polynomial_features__order': 'C',\n",
       " 'linear_regression__copy_X': True,\n",
       " 'linear_regression__fit_intercept': True,\n",
       " 'linear_regression__n_jobs': None,\n",
       " 'linear_regression__positive': False}"
      ]
     },
     "execution_count": 12,
     "metadata": {},
     "output_type": "execute_result"
    }
   ],
   "source": [
    "polynomial_model.get_params()"
   ]
  },
  {
   "cell_type": "code",
   "execution_count": 16,
   "metadata": {},
   "outputs": [
    {
     "name": "stdout",
     "output_type": "stream",
     "text": [
      "Fitting 5 folds for each of 4 candidates, totalling 20 fits\n",
      "[CV] END polynomial_features__degree=2, polynomial_features__include_bias=True; total time=   0.0s\n",
      "[CV] END polynomial_features__degree=2, polynomial_features__include_bias=True; total time=   0.0s\n",
      "[CV] END polynomial_features__degree=2, polynomial_features__include_bias=True; total time=   0.0s\n",
      "[CV] END polynomial_features__degree=2, polynomial_features__include_bias=True; total time=   0.0s\n",
      "[CV] END polynomial_features__degree=2, polynomial_features__include_bias=True; total time=   0.0s\n",
      "[CV] END polynomial_features__degree=2, polynomial_features__include_bias=False; total time=   0.0s\n",
      "[CV] END polynomial_features__degree=2, polynomial_features__include_bias=False; total time=   0.0s\n",
      "[CV] END polynomial_features__degree=2, polynomial_features__include_bias=False; total time=   0.0s\n",
      "[CV] END polynomial_features__degree=2, polynomial_features__include_bias=False; total time=   0.0s\n",
      "[CV] END polynomial_features__degree=2, polynomial_features__include_bias=False; total time=   0.0s\n",
      "[CV] END polynomial_features__degree=4, polynomial_features__include_bias=True; total time=   0.0s\n",
      "[CV] END polynomial_features__degree=4, polynomial_features__include_bias=True; total time=   0.0s\n",
      "[CV] END polynomial_features__degree=4, polynomial_features__include_bias=True; total time=   0.0s\n",
      "[CV] END polynomial_features__degree=4, polynomial_features__include_bias=True; total time=   0.0s\n",
      "[CV] END polynomial_features__degree=4, polynomial_features__include_bias=True; total time=   0.0s\n",
      "[CV] END polynomial_features__degree=4, polynomial_features__include_bias=False; total time=   0.0s\n",
      "[CV] END polynomial_features__degree=4, polynomial_features__include_bias=False; total time=   0.0s\n",
      "[CV] END polynomial_features__degree=4, polynomial_features__include_bias=False; total time=   0.0s\n",
      "[CV] END polynomial_features__degree=4, polynomial_features__include_bias=False; total time=   0.0s\n",
      "[CV] END polynomial_features__degree=4, polynomial_features__include_bias=False; total time=   0.0s\n",
      "Pipeline(steps=[('polynomial_features', PolynomialFeatures(include_bias=False)),\n",
      "                ('linear_regression', LinearRegression())])\n",
      "{'polynomial_features__degree': 2, 'polynomial_features__include_bias': False}\n",
      "-28803.81255943013\n"
     ]
    }
   ],
   "source": [
    "# there are two configurations which can be configuered, degree and bias\n",
    "# therefor we generate a config\n",
    "\n",
    "from sklearn.model_selection import GridSearchCV\n",
    "\n",
    "param_grid = {\n",
    "'polynomial_features__degree': [2, 4],\n",
    "'polynomial_features__include_bias': [True, False],\n",
    "}\n",
    "\n",
    "grid_search_pl = GridSearchCV(polynomial_model, param_grid, cv=5, scoring='neg_root_mean_squared_error', verbose=2) # add param verbose = 2 to see the state\n",
    "grid_search_pl.fit(X_train, y_train)\n",
    "print(grid_search_pl.best_estimator_)\n",
    "print(grid_search_pl.best_params_)\n",
    "print(grid_search_pl.best_score_)"
   ]
  },
  {
   "cell_type": "code",
   "execution_count": 20,
   "metadata": {},
   "outputs": [
    {
     "name": "stdout",
     "output_type": "stream",
     "text": [
      "Fitting 5 folds for each of 6 candidates, totalling 30 fits\n",
      "[CV] END .......................max_depth=90, max_features=6; total time=   0.3s\n",
      "[CV] END .......................max_depth=90, max_features=6; total time=   0.3s\n",
      "[CV] END .......................max_depth=90, max_features=6; total time=   0.2s\n",
      "[CV] END .......................max_depth=90, max_features=6; total time=   0.2s\n",
      "[CV] END .......................max_depth=90, max_features=6; total time=   0.2s\n",
      "[CV] END .......................max_depth=90, max_features=9; total time=   0.2s\n",
      "[CV] END .......................max_depth=90, max_features=9; total time=   0.2s\n",
      "[CV] END .......................max_depth=90, max_features=9; total time=   0.2s\n",
      "[CV] END .......................max_depth=90, max_features=9; total time=   0.2s\n",
      "[CV] END .......................max_depth=90, max_features=9; total time=   0.3s\n",
      "[CV] END ......................max_depth=100, max_features=6; total time=   0.2s\n",
      "[CV] END ......................max_depth=100, max_features=6; total time=   0.2s\n",
      "[CV] END ......................max_depth=100, max_features=6; total time=   0.2s\n",
      "[CV] END ......................max_depth=100, max_features=6; total time=   0.3s\n",
      "[CV] END ......................max_depth=100, max_features=6; total time=   0.3s\n",
      "[CV] END ......................max_depth=100, max_features=9; total time=   0.3s\n",
      "[CV] END ......................max_depth=100, max_features=9; total time=   0.3s\n",
      "[CV] END ......................max_depth=100, max_features=9; total time=   0.2s\n",
      "[CV] END ......................max_depth=100, max_features=9; total time=   0.2s\n",
      "[CV] END ......................max_depth=100, max_features=9; total time=   0.2s\n",
      "[CV] END ......................max_depth=110, max_features=6; total time=   0.2s\n",
      "[CV] END ......................max_depth=110, max_features=6; total time=   0.2s\n",
      "[CV] END ......................max_depth=110, max_features=6; total time=   0.2s\n",
      "[CV] END ......................max_depth=110, max_features=6; total time=   0.2s\n",
      "[CV] END ......................max_depth=110, max_features=6; total time=   0.2s\n",
      "[CV] END ......................max_depth=110, max_features=9; total time=   0.2s\n",
      "[CV] END ......................max_depth=110, max_features=9; total time=   0.2s\n",
      "[CV] END ......................max_depth=110, max_features=9; total time=   0.2s\n",
      "[CV] END ......................max_depth=110, max_features=9; total time=   0.3s\n",
      "[CV] END ......................max_depth=110, max_features=9; total time=   0.3s\n",
      "RandomForestRegressor(max_depth=90, max_features=6, random_state=42)\n",
      "{'max_depth': 90, 'max_features': 6}\n",
      "-27073.729981585017\n"
     ]
    }
   ],
   "source": [
    "param_grid = {'max_depth': [90, 100, 110],\n",
    "'max_features': [6, 9]\n",
    "}\n",
    "\n",
    "grid_search_rf = GridSearchCV(randomforest_model, param_grid, cv=5, scoring='neg_root_mean_squared_error', verbose=2) # add param verbose = 2 to see the state\n",
    "grid_search_rf.fit(X_train, y_train)\n",
    "print(grid_search_rf.best_estimator_)\n",
    "print(grid_search_rf.best_params_)\n",
    "print(grid_search_rf.best_score_)"
   ]
  },
  {
   "cell_type": "markdown",
   "metadata": {},
   "source": [
    "## Datenanalyse\n"
   ]
  },
  {
   "cell_type": "code",
   "execution_count": 23,
   "metadata": {},
   "outputs": [
    {
     "name": "stdout",
     "output_type": "stream",
     "text": [
      "       pop    pop_dens      abs_error\n",
      "1797  2118  613.913043  359738.274124\n",
      "2058  2387  616.795866  347598.123991\n",
      "597   5350  305.714286  230989.434725\n",
      "2098  2577  583.031674  184994.206152\n",
      "699    398  222.346369  183496.358237\n"
     ]
    },
    {
     "data": {
      "image/png": "[encoded data removed]",
      "text/plain": [
       "<Figure size 720x360 with 1 Axes>"
      ]
     },
     "metadata": {
      "needs_background": "light"
     },
     "output_type": "display_data"
    }
   ],
   "source": [
    "from sklearn.pipeline import Pipeline\n",
    "from sklearn.preprocessing import PolynomialFeatures\n",
    "from sklearn.linear_model import LinearRegression\n",
    "from sklearn.model_selection import train_test_split\n",
    "\n",
    "# Annahme: Sie haben bereits die Daten geladen und X_train, y_train definiert\n",
    "# Polynomial Model definieren\n",
    "polynomial_model = Pipeline([\n",
    "    (\"polynomial_features\", PolynomialFeatures(degree=2)),\n",
    "    (\"linear_regression\", LinearRegression())\n",
    "])\n",
    "\n",
    "# Modell mit Trainingsdaten trainieren\n",
    "polynomial_model.fit(X_train, y_train)\n",
    "\n",
    "# Nun können Sie das Modell verwenden, um Vorhersagen zu machen\n",
    "y_pred = polynomial_model.predict(X_train)\n",
    "\n",
    "# Fehler berechnen\n",
    "errors = y_train - y_pred\n",
    "abs_errors = np.abs(errors)\n",
    "\n",
    "# Fehlerdaten zu Trainingsdaten hinzufügen\n",
    "df_train = pd.DataFrame(X_train, columns=['pop', 'pop_dens'])  # Achten Sie darauf, die korrekten Spaltennamen zu verwenden\n",
    "df_train['abs_error'] = abs_errors\n",
    "\n",
    "# Daten nach dem Fehler sortieren und anzeigen\n",
    "df_train_sorted = df_train.sort_values(by='abs_error', ascending=False)\n",
    "print(df_train_sorted.head())\n",
    "\n",
    "# Koeffizienten extrahieren und darstellen, wenn das Modell eine Pipeline ist und die lineare Regression enthält\n",
    "if 'linear_regression' in polynomial_model.named_steps:\n",
    "    coefficients = polynomial_model.named_steps['linear_regression'].coef_\n",
    "    feature_names = polynomial_model.named_steps['polynomial_features'].get_feature_names_out()\n",
    "\n",
    "    df_coeffs = pd.DataFrame({'Feature': feature_names, 'Coefficient': coefficients})\n",
    "    df_coeffs['Abs_Coefficient'] = df_coeffs['Coefficient'].abs()\n",
    "    df_coeffs.sort_values('Abs_Coefficient', ascending=False, inplace=True)\n",
    "\n",
    "    import matplotlib.pyplot as plt\n",
    "    df_coeffs.plot(kind='bar', x='Feature', y='Abs_Coefficient', color='blue', figsize=(10, 5))\n",
    "    plt.title('Feature Coefficients')\n",
    "    plt.show()\n",
    "\n"
   ]
  },
  {
   "cell_type": "code",
   "execution_count": 24,
   "metadata": {},
   "outputs": [
    {
     "data": {
      "text/plain": [
       "Index(['pop', 'pop_dens'], dtype='object')"
      ]
     },
     "execution_count": 24,
     "metadata": {},
     "output_type": "execute_result"
    }
   ],
   "source": [
    "X_train.columns"
   ]
  },
  {
   "cell_type": "code",
   "execution_count": 26,
   "metadata": {},
   "outputs": [
    {
     "name": "stdout",
     "output_type": "stream",
     "text": [
      "Index(['bfs_number', 'bfs_name', 'pop', 'pop_dens', 'frg_pct', 'emp',\n",
      "       'tax_income'],\n",
      "      dtype='object')\n"
     ]
    }
   ],
   "source": [
    "print(df.columns)\n",
    "\n"
   ]
  },
  {
   "cell_type": "code",
   "execution_count": 27,
   "metadata": {},
   "outputs": [
    {
     "name": "stdout",
     "output_type": "stream",
     "text": [
      "(1724, 5)\n"
     ]
    },
    {
     "data": {
      "text/html": [
       "<div>\n",
       "<style scoped>\n",
       "    .dataframe tbody tr th:only-of-type {\n",
       "        vertical-align: middle;\n",
       "    }\n",
       "\n",
       "    .dataframe tbody tr th {\n",
       "        vertical-align: top;\n",
       "    }\n",
       "\n",
       "    .dataframe thead th {\n",
       "        text-align: right;\n",
       "    }\n",
       "</style>\n",
       "<table border=\"1\" class=\"dataframe\">\n",
       "  <thead>\n",
       "    <tr style=\"text-align: right;\">\n",
       "      <th></th>\n",
       "      <th>pop</th>\n",
       "      <th>pop_dens</th>\n",
       "      <th>error</th>\n",
       "      <th>price</th>\n",
       "      <th>predicted_price</th>\n",
       "    </tr>\n",
       "  </thead>\n",
       "  <tbody>\n",
       "    <tr>\n",
       "      <th>867</th>\n",
       "      <td>5140</td>\n",
       "      <td>368.723099</td>\n",
       "      <td>1954.699260</td>\n",
       "      <td>76335</td>\n",
       "      <td>74380.300740</td>\n",
       "    </tr>\n",
       "    <tr>\n",
       "      <th>1606</th>\n",
       "      <td>434</td>\n",
       "      <td>19.727273</td>\n",
       "      <td>9613.355640</td>\n",
       "      <td>60849</td>\n",
       "      <td>70462.355640</td>\n",
       "    </tr>\n",
       "    <tr>\n",
       "      <th>1111</th>\n",
       "      <td>1120</td>\n",
       "      <td>24.190065</td>\n",
       "      <td>18203.403546</td>\n",
       "      <td>51836</td>\n",
       "      <td>70039.403546</td>\n",
       "    </tr>\n",
       "    <tr>\n",
       "      <th>1258</th>\n",
       "      <td>1469</td>\n",
       "      <td>327.171492</td>\n",
       "      <td>9547.985444</td>\n",
       "      <td>85695</td>\n",
       "      <td>76147.014556</td>\n",
       "    </tr>\n",
       "    <tr>\n",
       "      <th>1319</th>\n",
       "      <td>1042</td>\n",
       "      <td>109.568875</td>\n",
       "      <td>5081.069339</td>\n",
       "      <td>66865</td>\n",
       "      <td>71946.069339</td>\n",
       "    </tr>\n",
       "  </tbody>\n",
       "</table>\n",
       "</div>"
      ],
      "text/plain": [
       "       pop    pop_dens         error  price  predicted_price\n",
       "867   5140  368.723099   1954.699260  76335     74380.300740\n",
       "1606   434   19.727273   9613.355640  60849     70462.355640\n",
       "1111  1120   24.190065  18203.403546  51836     70039.403546\n",
       "1258  1469  327.171492   9547.985444  85695     76147.014556\n",
       "1319  1042  109.568875   5081.069339  66865     71946.069339"
      ]
     },
     "execution_count": 27,
     "metadata": {},
     "output_type": "execute_result"
    }
   ],
   "source": [
    "from sklearn.model_selection import cross_val_predict\n",
    "from sklearn.pipeline import Pipeline\n",
    "from sklearn.preprocessing import PolynomialFeatures\n",
    "from sklearn.linear_model import LinearRegression\n",
    "import pandas as pd\n",
    "import numpy as np\n",
    "\n",
    "# Definieren des polynomialen Modells\n",
    "polynomial_model = Pipeline([\n",
    "    (\"polynomial_features\", PolynomialFeatures(degree=2)),\n",
    "    (\"linear_regression\", LinearRegression())\n",
    "])\n",
    "\n",
    "\n",
    "\n",
    "# Trainieren des Modells\n",
    "polynomial_model.fit(X_train, y_train)\n",
    "\n",
    "# Holen aller Vorhersagen für den Trainingssatz mittels Cross-Validation\n",
    "y_train_predict = cross_val_predict(polynomial_model, X_train, y_train, cv=5)\n",
    "\n",
    "# DataFrame zur Analyse erstellen\n",
    "df_new = pd.DataFrame(X_train, columns=X_train.columns, copy=True)\n",
    "df_new['error'] = np.abs(y_train_predict - y_train)\n",
    "df_new['price'] = y_train\n",
    "df_new['predicted_price'] = y_train_predict\n",
    "\n",
    "\n",
    "\n",
    "# Ergebnisse anzeigen\n",
    "print(df_new.shape)\n",
    "df_new.head()\n"
   ]
  },
  {
   "cell_type": "code",
   "execution_count": 28,
   "metadata": {},
   "outputs": [
    {
     "name": "stdout",
     "output_type": "stream",
     "text": [
      "Statistische Zusammenfassung der Fehler:\n",
      "count      1724.000000\n",
      "mean      14939.597365\n",
      "std       25152.444228\n",
      "min          32.041985\n",
      "25%        4555.686264\n",
      "50%        9775.227734\n",
      "75%       16571.647858\n",
      "max      398890.610838\n",
      "Name: error, dtype: float64\n"
     ]
    },
    {
     "data": {
      "image/png": "[encoded data removed]",
      "text/plain": [
       "<Figure size 720x432 with 1 Axes>"
      ]
     },
     "metadata": {
      "needs_background": "light"
     },
     "output_type": "display_data"
    },
    {
     "data": {
      "image/png": "[encoded data removed]",
      "text/plain": [
       "<Figure size 720x432 with 1 Axes>"
      ]
     },
     "metadata": {
      "needs_background": "light"
     },
     "output_type": "display_data"
    }
   ],
   "source": [
    "import matplotlib.pyplot as plt\n",
    "\n",
    "# Statistische Zusammenfassung der Fehler\n",
    "print(\"Statistische Zusammenfassung der Fehler:\")\n",
    "print(df_new['error'].describe())\n",
    "\n",
    "# Histogramm der Fehler\n",
    "plt.figure(figsize=(10, 6))\n",
    "plt.hist(df_new['error'], bins=50, color='blue', alpha=0.7)\n",
    "plt.title('Histogramm der Fehlerwerte')\n",
    "plt.xlabel('Fehler')\n",
    "plt.ylabel('Häufigkeit')\n",
    "plt.show()\n",
    "\n",
    "# Boxplot der Fehler\n",
    "plt.figure(figsize=(10, 6))\n",
    "plt.boxplot(df_new['error'], vert=False)\n",
    "plt.title('Boxplot der Fehlerwerte')\n",
    "plt.xlabel('Fehler')\n",
    "plt.show()\n"
   ]
  },
  {
   "cell_type": "code",
   "execution_count": 29,
   "metadata": {},
   "outputs": [],
   "source": [
    "# Filtern der Daten basierend auf einem Fehler größer als 25,000\n",
    "filtered_data = df_new[df_new['error'] > 25000]\n",
    "\n",
    "# Speichern der gefilterten Daten in einer CSV-Datei\n",
    "filtered_data.to_csv('data_with_large_errors.csv', sep=\",\", encoding='utf-8', index=False)\n"
   ]
  },
  {
   "cell_type": "code",
   "execution_count": 30,
   "metadata": {},
   "outputs": [
    {
     "data": {
      "image/png": "[encoded data removed]",
      "text/plain": [
       "<Figure size 576x288 with 1 Axes>"
      ]
     },
     "metadata": {
      "needs_background": "light"
     },
     "output_type": "display_data"
    }
   ],
   "source": [
    "from sklearn.model_selection import cross_val_predict\n",
    "from sklearn.pipeline import Pipeline\n",
    "from sklearn.preprocessing import PolynomialFeatures\n",
    "from sklearn.linear_model import LinearRegression\n",
    "import matplotlib.pyplot as plt\n",
    "import numpy as np\n",
    "\n",
    "# Definieren des polynomialen Modells\n",
    "polynomial_model = Pipeline([\n",
    "    (\"polynomial_features\", PolynomialFeatures(degree=2)),\n",
    "    (\"linear_regression\", LinearRegression())\n",
    "])\n",
    "\n",
    "# Holen aller Vorhersagen für den Trainingssatz mittels Cross-Validation\n",
    "y_train_predict = cross_val_predict(polynomial_model, X_train, y_train, cv=5)\n",
    "\n",
    "# Berechnen der Residuen\n",
    "y_residuals = y_train_predict - y_train\n",
    "\n",
    "# Histogramm der Residuen\n",
    "fig = plt.figure(figsize=(8, 4))\n",
    "n, bins, patches = plt.hist(x=y_residuals, bins=20, color='blue', alpha=0.5)\n",
    "\n",
    "# Beschriftungen setzen\n",
    "plt.xlabel('Residuen', fontsize=10, labelpad=10)\n",
    "plt.ylabel('Häufigkeit', fontsize=10, labelpad=10)\n",
    "plt.title('Histogramm der Modellresiduen', fontsize=12, pad=10)\n",
    "plt.show()\n"
   ]
  },
  {
   "cell_type": "markdown",
   "metadata": {},
   "source": [
    "## Modell speichern"
   ]
  },
  {
   "cell_type": "code",
   "execution_count": 34,
   "metadata": {},
   "outputs": [
    {
     "data": {
      "text/html": [
       "<style>#sk-container-id-1 {\n",
       "  /* Definition of color scheme common for light and dark mode */\n",
       "  --sklearn-color-text: black;\n",
       "  --sklearn-color-line: gray;\n",
       "  /* Definition of color scheme for unfitted estimators */\n",
       "  --sklearn-color-unfitted-level-0: #fff5e6;\n",
       "  --sklearn-color-unfitted-level-1: #f6e4d2;\n",
       "  --sklearn-color-unfitted-level-2: #ffe0b3;\n",
       "  --sklearn-color-unfitted-level-3: chocolate;\n",
       "  /* Definition of color scheme for fitted estimators */\n",
       "  --sklearn-color-fitted-level-0: #f0f8ff;\n",
       "  --sklearn-color-fitted-level-1: #d4ebff;\n",
       "  --sklearn-color-fitted-level-2: #b3dbfd;\n",
       "  --sklearn-color-fitted-level-3: cornflowerblue;\n",
       "\n",
       "  /* Specific color for light theme */\n",
       "  --sklearn-color-text-on-default-background: var(--sg-text-color, var(--theme-code-foreground, var(--jp-content-font-color1, black)));\n",
       "  --sklearn-color-background: var(--sg-background-color, var(--theme-background, var(--jp-layout-color0, white)));\n",
       "  --sklearn-color-border-box: var(--sg-text-color, var(--theme-code-foreground, var(--jp-content-font-color1, black)));\n",
       "  --sklearn-color-icon: #696969;\n",
       "\n",
       "  @media (prefers-color-scheme: dark) {\n",
       "    /* Redefinition of color scheme for dark theme */\n",
       "    --sklearn-color-text-on-default-background: var(--sg-text-color, var(--theme-code-foreground, var(--jp-content-font-color1, white)));\n",
       "    --sklearn-color-background: var(--sg-background-color, var(--theme-background, var(--jp-layout-color0, #111)));\n",
       "    --sklearn-color-border-box: var(--sg-text-color, var(--theme-code-foreground, var(--jp-content-font-color1, white)));\n",
       "    --sklearn-color-icon: #878787;\n",
       "  }\n",
       "}\n",
       "\n",
       "#sk-container-id-1 {\n",
       "  color: var(--sklearn-color-text);\n",
       "}\n",
       "\n",
       "#sk-container-id-1 pre {\n",
       "  padding: 0;\n",
       "}\n",
       "\n",
       "#sk-container-id-1 input.sk-hidden--visually {\n",
       "  border: 0;\n",
       "  clip: rect(1px 1px 1px 1px);\n",
       "  clip: rect(1px, 1px, 1px, 1px);\n",
       "  height: 1px;\n",
       "  margin: -1px;\n",
       "  overflow: hidden;\n",
       "  padding: 0;\n",
       "  position: absolute;\n",
       "  width: 1px;\n",
       "}\n",
       "\n",
       "#sk-container-id-1 div.sk-dashed-wrapped {\n",
       "  border: 1px dashed var(--sklearn-color-line);\n",
       "  margin: 0 0.4em 0.5em 0.4em;\n",
       "  box-sizing: border-box;\n",
       "  padding-bottom: 0.4em;\n",
       "  background-color: var(--sklearn-color-background);\n",
       "}\n",
       "\n",
       "#sk-container-id-1 div.sk-container {\n",
       "  /* jupyter's `normalize.less` sets `[hidden] { display: none; }`\n",
       "     but bootstrap.min.css set `[hidden] { display: none !important; }`\n",
       "     so we also need the `!important` here to be able to override the\n",
       "     default hidden behavior on the sphinx rendered scikit-learn.org.\n",
       "     See: https://github.com/scikit-learn/scikit-learn/issues/21755 */\n",
       "  display: inline-block !important;\n",
       "  position: relative;\n",
       "}\n",
       "\n",
       "#sk-container-id-1 div.sk-text-repr-fallback {\n",
       "  display: none;\n",
       "}\n",
       "\n",
       "div.sk-parallel-item,\n",
       "div.sk-serial,\n",
       "div.sk-item {\n",
       "  /* draw centered vertical line to link estimators */\n",
       "  background-image: linear-gradient(var(--sklearn-color-text-on-default-background), var(--sklearn-color-text-on-default-background));\n",
       "  background-size: 2px 100%;\n",
       "  background-repeat: no-repeat;\n",
       "  background-position: center center;\n",
       "}\n",
       "\n",
       "/* Parallel-specific style estimator block */\n",
       "\n",
       "#sk-container-id-1 div.sk-parallel-item::after {\n",
       "  content: \"\";\n",
       "  width: 100%;\n",
       "  border-bottom: 2px solid var(--sklearn-color-text-on-default-background);\n",
       "  flex-grow: 1;\n",
       "}\n",
       "\n",
       "#sk-container-id-1 div.sk-parallel {\n",
       "  display: flex;\n",
       "  align-items: stretch;\n",
       "  justify-content: center;\n",
       "  background-color: var(--sklearn-color-background);\n",
       "  position: relative;\n",
       "}\n",
       "\n",
       "#sk-container-id-1 div.sk-parallel-item {\n",
       "  display: flex;\n",
       "  flex-direction: column;\n",
       "}\n",
       "\n",
       "#sk-container-id-1 div.sk-parallel-item:first-child::after {\n",
       "  align-self: flex-end;\n",
       "  width: 50%;\n",
       "}\n",
       "\n",
       "#sk-container-id-1 div.sk-parallel-item:last-child::after {\n",
       "  align-self: flex-start;\n",
       "  width: 50%;\n",
       "}\n",
       "\n",
       "#sk-container-id-1 div.sk-parallel-item:only-child::after {\n",
       "  width: 0;\n",
       "}\n",
       "\n",
       "/* Serial-specific style estimator block */\n",
       "\n",
       "#sk-container-id-1 div.sk-serial {\n",
       "  display: flex;\n",
       "  flex-direction: column;\n",
       "  align-items: center;\n",
       "  background-color: var(--sklearn-color-background);\n",
       "  padding-right: 1em;\n",
       "  padding-left: 1em;\n",
       "}\n",
       "\n",
       "\n",
       "/* Toggleable style: style used for estimator/Pipeline/ColumnTransformer box that is\n",
       "clickable and can be expanded/collapsed.\n",
       "- Pipeline and ColumnTransformer use this feature and define the default style\n",
       "- Estimators will overwrite some part of the style using the `sk-estimator` class\n",
       "*/\n",
       "\n",
       "/* Pipeline and ColumnTransformer style (default) */\n",
       "\n",
       "#sk-container-id-1 div.sk-toggleable {\n",
       "  /* Default theme specific background. It is overwritten whether we have a\n",
       "  specific estimator or a Pipeline/ColumnTransformer */\n",
       "  background-color: var(--sklearn-color-background);\n",
       "}\n",
       "\n",
       "/* Toggleable label */\n",
       "#sk-container-id-1 label.sk-toggleable__label {\n",
       "  cursor: pointer;\n",
       "  display: block;\n",
       "  width: 100%;\n",
       "  margin-bottom: 0;\n",
       "  padding: 0.5em;\n",
       "  box-sizing: border-box;\n",
       "  text-align: center;\n",
       "}\n",
       "\n",
       "#sk-container-id-1 label.sk-toggleable__label-arrow:before {\n",
       "  /* Arrow on the left of the label */\n",
       "  content: \"▸\";\n",
       "  float: left;\n",
       "  margin-right: 0.25em;\n",
       "  color: var(--sklearn-color-icon);\n",
       "}\n",
       "\n",
       "#sk-container-id-1 label.sk-toggleable__label-arrow:hover:before {\n",
       "  color: var(--sklearn-color-text);\n",
       "}\n",
       "\n",
       "/* Toggleable content - dropdown */\n",
       "\n",
       "#sk-container-id-1 div.sk-toggleable__content {\n",
       "  max-height: 0;\n",
       "  max-width: 0;\n",
       "  overflow: hidden;\n",
       "  text-align: left;\n",
       "  /* unfitted */\n",
       "  background-color: var(--sklearn-color-unfitted-level-0);\n",
       "}\n",
       "\n",
       "#sk-container-id-1 div.sk-toggleable__content.fitted {\n",
       "  /* fitted */\n",
       "  background-color: var(--sklearn-color-fitted-level-0);\n",
       "}\n",
       "\n",
       "#sk-container-id-1 div.sk-toggleable__content pre {\n",
       "  margin: 0.2em;\n",
       "  border-radius: 0.25em;\n",
       "  color: var(--sklearn-color-text);\n",
       "  /* unfitted */\n",
       "  background-color: var(--sklearn-color-unfitted-level-0);\n",
       "}\n",
       "\n",
       "#sk-container-id-1 div.sk-toggleable__content.fitted pre {\n",
       "  /* unfitted */\n",
       "  background-color: var(--sklearn-color-fitted-level-0);\n",
       "}\n",
       "\n",
       "#sk-container-id-1 input.sk-toggleable__control:checked~div.sk-toggleable__content {\n",
       "  /* Expand drop-down */\n",
       "  max-height: 200px;\n",
       "  max-width: 100%;\n",
       "  overflow: auto;\n",
       "}\n",
       "\n",
       "#sk-container-id-1 input.sk-toggleable__control:checked~label.sk-toggleable__label-arrow:before {\n",
       "  content: \"▾\";\n",
       "}\n",
       "\n",
       "/* Pipeline/ColumnTransformer-specific style */\n",
       "\n",
       "#sk-container-id-1 div.sk-label input.sk-toggleable__control:checked~label.sk-toggleable__label {\n",
       "  color: var(--sklearn-color-text);\n",
       "  background-color: var(--sklearn-color-unfitted-level-2);\n",
       "}\n",
       "\n",
       "#sk-container-id-1 div.sk-label.fitted input.sk-toggleable__control:checked~label.sk-toggleable__label {\n",
       "  background-color: var(--sklearn-color-fitted-level-2);\n",
       "}\n",
       "\n",
       "/* Estimator-specific style */\n",
       "\n",
       "/* Colorize estimator box */\n",
       "#sk-container-id-1 div.sk-estimator input.sk-toggleable__control:checked~label.sk-toggleable__label {\n",
       "  /* unfitted */\n",
       "  background-color: var(--sklearn-color-unfitted-level-2);\n",
       "}\n",
       "\n",
       "#sk-container-id-1 div.sk-estimator.fitted input.sk-toggleable__control:checked~label.sk-toggleable__label {\n",
       "  /* fitted */\n",
       "  background-color: var(--sklearn-color-fitted-level-2);\n",
       "}\n",
       "\n",
       "#sk-container-id-1 div.sk-label label.sk-toggleable__label,\n",
       "#sk-container-id-1 div.sk-label label {\n",
       "  /* The background is the default theme color */\n",
       "  color: var(--sklearn-color-text-on-default-background);\n",
       "}\n",
       "\n",
       "/* On hover, darken the color of the background */\n",
       "#sk-container-id-1 div.sk-label:hover label.sk-toggleable__label {\n",
       "  color: var(--sklearn-color-text);\n",
       "  background-color: var(--sklearn-color-unfitted-level-2);\n",
       "}\n",
       "\n",
       "/* Label box, darken color on hover, fitted */\n",
       "#sk-container-id-1 div.sk-label.fitted:hover label.sk-toggleable__label.fitted {\n",
       "  color: var(--sklearn-color-text);\n",
       "  background-color: var(--sklearn-color-fitted-level-2);\n",
       "}\n",
       "\n",
       "/* Estimator label */\n",
       "\n",
       "#sk-container-id-1 div.sk-label label {\n",
       "  font-family: monospace;\n",
       "  font-weight: bold;\n",
       "  display: inline-block;\n",
       "  line-height: 1.2em;\n",
       "}\n",
       "\n",
       "#sk-container-id-1 div.sk-label-container {\n",
       "  text-align: center;\n",
       "}\n",
       "\n",
       "/* Estimator-specific */\n",
       "#sk-container-id-1 div.sk-estimator {\n",
       "  font-family: monospace;\n",
       "  border: 1px dotted var(--sklearn-color-border-box);\n",
       "  border-radius: 0.25em;\n",
       "  box-sizing: border-box;\n",
       "  margin-bottom: 0.5em;\n",
       "  /* unfitted */\n",
       "  background-color: var(--sklearn-color-unfitted-level-0);\n",
       "}\n",
       "\n",
       "#sk-container-id-1 div.sk-estimator.fitted {\n",
       "  /* fitted */\n",
       "  background-color: var(--sklearn-color-fitted-level-0);\n",
       "}\n",
       "\n",
       "/* on hover */\n",
       "#sk-container-id-1 div.sk-estimator:hover {\n",
       "  /* unfitted */\n",
       "  background-color: var(--sklearn-color-unfitted-level-2);\n",
       "}\n",
       "\n",
       "#sk-container-id-1 div.sk-estimator.fitted:hover {\n",
       "  /* fitted */\n",
       "  background-color: var(--sklearn-color-fitted-level-2);\n",
       "}\n",
       "\n",
       "/* Specification for estimator info (e.g. \"i\" and \"?\") */\n",
       "\n",
       "/* Common style for \"i\" and \"?\" */\n",
       "\n",
       ".sk-estimator-doc-link,\n",
       "a:link.sk-estimator-doc-link,\n",
       "a:visited.sk-estimator-doc-link {\n",
       "  float: right;\n",
       "  font-size: smaller;\n",
       "  line-height: 1em;\n",
       "  font-family: monospace;\n",
       "  background-color: var(--sklearn-color-background);\n",
       "  border-radius: 1em;\n",
       "  height: 1em;\n",
       "  width: 1em;\n",
       "  text-decoration: none !important;\n",
       "  margin-left: 1ex;\n",
       "  /* unfitted */\n",
       "  border: var(--sklearn-color-unfitted-level-1) 1pt solid;\n",
       "  color: var(--sklearn-color-unfitted-level-1);\n",
       "}\n",
       "\n",
       ".sk-estimator-doc-link.fitted,\n",
       "a:link.sk-estimator-doc-link.fitted,\n",
       "a:visited.sk-estimator-doc-link.fitted {\n",
       "  /* fitted */\n",
       "  border: var(--sklearn-color-fitted-level-1) 1pt solid;\n",
       "  color: var(--sklearn-color-fitted-level-1);\n",
       "}\n",
       "\n",
       "/* On hover */\n",
       "div.sk-estimator:hover .sk-estimator-doc-link:hover,\n",
       ".sk-estimator-doc-link:hover,\n",
       "div.sk-label-container:hover .sk-estimator-doc-link:hover,\n",
       ".sk-estimator-doc-link:hover {\n",
       "  /* unfitted */\n",
       "  background-color: var(--sklearn-color-unfitted-level-3);\n",
       "  color: var(--sklearn-color-background);\n",
       "  text-decoration: none;\n",
       "}\n",
       "\n",
       "div.sk-estimator.fitted:hover .sk-estimator-doc-link.fitted:hover,\n",
       ".sk-estimator-doc-link.fitted:hover,\n",
       "div.sk-label-container:hover .sk-estimator-doc-link.fitted:hover,\n",
       ".sk-estimator-doc-link.fitted:hover {\n",
       "  /* fitted */\n",
       "  background-color: var(--sklearn-color-fitted-level-3);\n",
       "  color: var(--sklearn-color-background);\n",
       "  text-decoration: none;\n",
       "}\n",
       "\n",
       "/* Span, style for the box shown on hovering the info icon */\n",
       ".sk-estimator-doc-link span {\n",
       "  display: none;\n",
       "  z-index: 9999;\n",
       "  position: relative;\n",
       "  font-weight: normal;\n",
       "  right: .2ex;\n",
       "  padding: .5ex;\n",
       "  margin: .5ex;\n",
       "  width: min-content;\n",
       "  min-width: 20ex;\n",
       "  max-width: 50ex;\n",
       "  color: var(--sklearn-color-text);\n",
       "  box-shadow: 2pt 2pt 4pt #999;\n",
       "  /* unfitted */\n",
       "  background: var(--sklearn-color-unfitted-level-0);\n",
       "  border: .5pt solid var(--sklearn-color-unfitted-level-3);\n",
       "}\n",
       "\n",
       ".sk-estimator-doc-link.fitted span {\n",
       "  /* fitted */\n",
       "  background: var(--sklearn-color-fitted-level-0);\n",
       "  border: var(--sklearn-color-fitted-level-3);\n",
       "}\n",
       "\n",
       ".sk-estimator-doc-link:hover span {\n",
       "  display: block;\n",
       "}\n",
       "\n",
       "/* \"?\"-specific style due to the `<a>` HTML tag */\n",
       "\n",
       "#sk-container-id-1 a.estimator_doc_link {\n",
       "  float: right;\n",
       "  font-size: 1rem;\n",
       "  line-height: 1em;\n",
       "  font-family: monospace;\n",
       "  background-color: var(--sklearn-color-background);\n",
       "  border-radius: 1rem;\n",
       "  height: 1rem;\n",
       "  width: 1rem;\n",
       "  text-decoration: none;\n",
       "  /* unfitted */\n",
       "  color: var(--sklearn-color-unfitted-level-1);\n",
       "  border: var(--sklearn-color-unfitted-level-1) 1pt solid;\n",
       "}\n",
       "\n",
       "#sk-container-id-1 a.estimator_doc_link.fitted {\n",
       "  /* fitted */\n",
       "  border: var(--sklearn-color-fitted-level-1) 1pt solid;\n",
       "  color: var(--sklearn-color-fitted-level-1);\n",
       "}\n",
       "\n",
       "/* On hover */\n",
       "#sk-container-id-1 a.estimator_doc_link:hover {\n",
       "  /* unfitted */\n",
       "  background-color: var(--sklearn-color-unfitted-level-3);\n",
       "  color: var(--sklearn-color-background);\n",
       "  text-decoration: none;\n",
       "}\n",
       "\n",
       "#sk-container-id-1 a.estimator_doc_link.fitted:hover {\n",
       "  /* fitted */\n",
       "  background-color: var(--sklearn-color-fitted-level-3);\n",
       "}\n",
       "</style><div id=\"sk-container-id-1\" class=\"sk-top-container\"><div class=\"sk-text-repr-fallback\"><pre>Pipeline(steps=[(&#x27;polynomial_features&#x27;, PolynomialFeatures()),\n",
       "                (&#x27;linear_regression&#x27;, LinearRegression())])</pre><b>In a Jupyter environment, please rerun this cell to show the HTML representation or trust the notebook. <br />On GitHub, the HTML representation is unable to render, please try loading this page with nbviewer.org.</b></div><div class=\"sk-container\" hidden><div class=\"sk-item sk-dashed-wrapped\"><div class=\"sk-label-container\"><div class=\"sk-label fitted sk-toggleable\"><input class=\"sk-toggleable__control sk-hidden--visually\" id=\"sk-estimator-id-1\" type=\"checkbox\" ><label for=\"sk-estimator-id-1\" class=\"sk-toggleable__label fitted sk-toggleable__label-arrow fitted\">&nbsp;&nbsp;Pipeline<a class=\"sk-estimator-doc-link fitted\" rel=\"noreferrer\" target=\"_blank\" href=\"https://scikit-learn.org/1.4/modules/generated/sklearn.pipeline.Pipeline.html\">?<span>Documentation for Pipeline</span></a><span class=\"sk-estimator-doc-link fitted\">i<span>Fitted</span></span></label><div class=\"sk-toggleable__content fitted\"><pre>Pipeline(steps=[(&#x27;polynomial_features&#x27;, PolynomialFeatures()),\n",
       "                (&#x27;linear_regression&#x27;, LinearRegression())])</pre></div> </div></div><div class=\"sk-serial\"><div class=\"sk-item\"><div class=\"sk-estimator fitted sk-toggleable\"><input class=\"sk-toggleable__control sk-hidden--visually\" id=\"sk-estimator-id-2\" type=\"checkbox\" ><label for=\"sk-estimator-id-2\" class=\"sk-toggleable__label fitted sk-toggleable__label-arrow fitted\">&nbsp;PolynomialFeatures<a class=\"sk-estimator-doc-link fitted\" rel=\"noreferrer\" target=\"_blank\" href=\"https://scikit-learn.org/1.4/modules/generated/sklearn.preprocessing.PolynomialFeatures.html\">?<span>Documentation for PolynomialFeatures</span></a></label><div class=\"sk-toggleable__content fitted\"><pre>PolynomialFeatures()</pre></div> </div></div><div class=\"sk-item\"><div class=\"sk-estimator fitted sk-toggleable\"><input class=\"sk-toggleable__control sk-hidden--visually\" id=\"sk-estimator-id-3\" type=\"checkbox\" ><label for=\"sk-estimator-id-3\" class=\"sk-toggleable__label fitted sk-toggleable__label-arrow fitted\">&nbsp;LinearRegression<a class=\"sk-estimator-doc-link fitted\" rel=\"noreferrer\" target=\"_blank\" href=\"https://scikit-learn.org/1.4/modules/generated/sklearn.linear_model.LinearRegression.html\">?<span>Documentation for LinearRegression</span></a></label><div class=\"sk-toggleable__content fitted\"><pre>LinearRegression()</pre></div> </div></div></div></div></div></div>"
      ],
      "text/plain": [
       "Pipeline(steps=[('polynomial_features', PolynomialFeatures()),\n",
       "                ('linear_regression', LinearRegression())])"
      ]
     },
     "execution_count": 34,
     "metadata": {},
     "output_type": "execute_result"
    }
   ],
   "source": [
    "X_train, X_test, y_train, y_test = train_test_split(df[['pop', 'pop_dens']], df['tax_income'], test_size=0.20, random_state=42)\n",
    "\n",
    "polynomial_model.fit(X_train, y_train)\n"
   ]
  },
  {
   "cell_type": "code",
   "execution_count": 36,
   "metadata": {},
   "outputs": [],
   "source": [
    "import pickle\n",
    "\n",
    "# save model to file\n",
    "model_filename = \"polynomial_model.pkl\"\n",
    "with open(model_filename, mode=\"bw\") as f:\n",
    "    pickle.dump(polynomial_model, file=f)\n"
   ]
  }
 ],
 "metadata": {
  "kernelspec": {
   "display_name": "base",
   "language": "python",
   "name": "python3"
  },
  "language_info": {
   "codemirror_mode": {
    "name": "ipython",
    "version": 3
   },
   "file_extension": ".py",
   "mimetype": "text/x-python",
   "name": "python",
   "nbconvert_exporter": "python",
   "pygments_lexer": "ipython3",
   "version": "3.9.12"
  }
 },
 "nbformat": 4,
 "nbformat_minor": 2
}
